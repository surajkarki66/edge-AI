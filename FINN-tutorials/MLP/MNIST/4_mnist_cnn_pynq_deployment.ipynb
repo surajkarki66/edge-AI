{
 "cells": [
  {
   "cell_type": "markdown",
   "id": "03c4abff-fefd-4993-b009-2967f5010c68",
   "metadata": {},
   "source": [
    "## 4.  PYNQ deployment <a id='hw_test'></a>\n",
    "\n",
    "* [Deployment](#deploy)\n",
    "* [Validation on PYNQ Board](#validation)\n",
    "* [Throughput Test on PYNQ Board](#throughput)\n",
    "\n",
    "\n",
    "The bitfile and generated driver will be copied together with some necessary files for execution into a deployment folder which then can be used to run the network on the PYNQ board."
   ]
  },
  {
   "cell_type": "markdown",
   "id": "adc1bd5d-a517-47e5-b627-14a1872f2e0e",
   "metadata": {},
   "source": [
    "### Deployment <a id='deploy'></a>\n",
    "\n",
    "We'll now create a deployment folder with the bitfile and driver file(s), we zip it and afterwards it can be copied to the PYNQ board for execution and validation."
   ]
  },
  {
   "cell_type": "code",
   "execution_count": 3,
   "id": "036f8525-5ef2-45fd-b613-93ae178fc341",
   "metadata": {},
   "outputs": [
    {
     "data": {
      "text/plain": [
       "['/home/surajkarki/Documents/My_Workspace/Coding_Works/Master_Project/finn/notebooks/experiments/yolov8/finn_build_dir//pynq_deployment_x_4cdmv4/qonnx/core/__init__.py',\n",
       " '/home/surajkarki/Documents/My_Workspace/Coding_Works/Master_Project/finn/notebooks/experiments/yolov8/finn_build_dir//pynq_deployment_x_4cdmv4/qonnx/core/datatype.py',\n",
       " '/home/surajkarki/Documents/My_Workspace/Coding_Works/Master_Project/finn/notebooks/experiments/yolov8/finn_build_dir//pynq_deployment_x_4cdmv4/qonnx/util/__init__.py',\n",
       " '/home/surajkarki/Documents/My_Workspace/Coding_Works/Master_Project/finn/notebooks/experiments/yolov8/finn_build_dir//pynq_deployment_x_4cdmv4/qonnx/util/basic.py',\n",
       " '/home/surajkarki/Documents/My_Workspace/Coding_Works/Master_Project/finn/notebooks/experiments/yolov8/finn_build_dir//pynq_deployment_x_4cdmv4/driver.py',\n",
       " '/home/surajkarki/Documents/My_Workspace/Coding_Works/Master_Project/finn/notebooks/experiments/yolov8/finn_build_dir//pynq_deployment_x_4cdmv4/finn/util/__init__.py',\n",
       " '/home/surajkarki/Documents/My_Workspace/Coding_Works/Master_Project/finn/notebooks/experiments/yolov8/finn_build_dir//pynq_deployment_x_4cdmv4/finn/util/data_packing.py',\n",
       " '/home/surajkarki/Documents/My_Workspace/Coding_Works/Master_Project/finn/notebooks/experiments/yolov8/finn_build_dir//pynq_deployment_x_4cdmv4/validate.py',\n",
       " '/home/surajkarki/Documents/My_Workspace/Coding_Works/Master_Project/finn/notebooks/experiments/yolov8/finn_build_dir//pynq_deployment_x_4cdmv4/driver_base.py']"
      ]
     },
     "execution_count": 3,
     "metadata": {},
     "output_type": "execute_result"
    }
   ],
   "source": [
    "from shutil import copy\n",
    "from distutils.dir_util import copy_tree\n",
    "from finn.util.basic import make_build_dir\n",
    "from qonnx.core.modelwrapper import ModelWrapper\n",
    "\n",
    "build_dir = \"./\"\n",
    "model = ModelWrapper(build_dir + \"/tfc_w1_a1_post_synthesis.onnx\")\n",
    "\n",
    "# create directory for deployment files\n",
    "deployment_dir = make_build_dir(prefix=\"pynq_deployment_\")\n",
    "model.set_metadata_prop(\"pynq_deployment_dir\", deployment_dir)\n",
    "\n",
    "# get and copy necessary files\n",
    "# .bit and .hwh file\n",
    "bitfile = model.get_metadata_prop(\"bitfile\")\n",
    "hwh_file = model.get_metadata_prop(\"hw_handoff\")\n",
    "deploy_files = [bitfile, hwh_file]\n",
    "\n",
    "for dfile in deploy_files:\n",
    "    if dfile is not None:\n",
    "        copy(dfile, deployment_dir)\n",
    "\n",
    "# driver.py and python libraries\n",
    "pynq_driver_dir = model.get_metadata_prop(\"pynq_driver_dir\")\n",
    "copy_tree(pynq_driver_dir, deployment_dir)"
   ]
  },
  {
   "cell_type": "markdown",
   "id": "7bfb7cfa-b40e-4de8-a375-05327b97c81c",
   "metadata": {},
   "source": [
    "Next to these files, we will also need an example numpy array to test the network on the PYNQ board. You may recall that one \"reshape\" node was left out of the StreamingDataflowPartition. We'll do that manually with a numpy function call when passing in the input, but everything else in the network ended up inside the StreamingDataflowPartition so that's all we need to do. The example numpy array can then be saved as .npy file. "
   ]
  },
  {
   "cell_type": "code",
   "execution_count": 5,
   "id": "4e09fb9a-a60a-486b-9b58-9aa789c9200e",
   "metadata": {},
   "outputs": [
    {
     "data": {
      "text/plain": [
       "<matplotlib.image.AxesImage at 0x7ff35c937b50>"
      ]
     },
     "execution_count": 5,
     "metadata": {},
     "output_type": "execute_result"
    },
    {
     "data": {
      "image/png": "[encoded data removed]",
      "text/plain": [
       "<Figure size 640x480 with 1 Axes>"
      ]
     },
     "metadata": {},
     "output_type": "display_data"
    }
   ],
   "source": [
    "from pkgutil import get_data\n",
    "\n",
    "import onnx\n",
    "import onnx.numpy_helper as nph\n",
    "import matplotlib.pyplot as plt\n",
    "\n",
    "raw_i = get_data(\"qonnx.data\", \"onnx/mnist-conv/test_data_set_0/input_0.pb\")\n",
    "x = nph.to_array(onnx.load_tensor_from_string(raw_i))\n",
    "plt.imshow(x.reshape(28,28), cmap='gray')"
   ]
  },
  {
   "cell_type": "code",
   "execution_count": 7,
   "id": "450b46f0-170b-4ebf-811f-69c49ea629e2",
   "metadata": {},
   "outputs": [
    {
     "name": "stdout",
     "output_type": "stream",
     "text": [
      "Expected network input shape is [1, 784]\n"
     ]
    }
   ],
   "source": [
    "import numpy as np\n",
    "\n",
    "parent_model = ModelWrapper(build_dir + \"/tfc_w1_a1_dataflow_parent.onnx\")\n",
    "model = ModelWrapper(build_dir + \"/tfc_w1_a1_post_synthesis.onnx\")\n",
    "iname = model.graph.input[0].name\n",
    "oname = parent_model.graph.output[0].name\n",
    "ishape = model.get_tensor_shape(iname)\n",
    "print(\"Expected network input shape is \" + str(ishape))\n",
    "np.save(deployment_dir + \"/input.npy\", x.reshape(ishape))"
   ]
  },
  {
   "cell_type": "code",
   "execution_count": 8,
   "id": "2333bd09-186b-47cf-b802-d441875af128",
   "metadata": {},
   "outputs": [
    {
     "name": "stdout",
     "output_type": "stream",
     "text": [
      "driver_base.py\tfinn\t   qonnx\tresizer.hwh\t validate.py\n",
      "driver.py\tinput.npy  resizer.bit\truntime_weights\n"
     ]
    }
   ],
   "source": [
    "! ls {deployment_dir}"
   ]
  },
  {
   "cell_type": "code",
   "execution_count": 9,
   "id": "6d8387ea-7031-4474-9a2a-79488d312fe1",
   "metadata": {},
   "outputs": [
    {
     "data": {
      "text/plain": [
       "'/home/surajkarki/Documents/My_Workspace/Coding_Works/Master_Project/finn/notebooks/end2end_example/bnn-pynq/deploy-on-pynq-tfc.zip'"
      ]
     },
     "execution_count": 9,
     "metadata": {},
     "output_type": "execute_result"
    }
   ],
   "source": [
    "from shutil import make_archive\n",
    "make_archive('deploy-on-pynq-tfc', 'zip', deployment_dir)"
   ]
  },
  {
   "cell_type": "markdown",
   "id": "3d4849ea-3158-4458-93de-bba6ad174f0a",
   "metadata": {},
   "source": [
    "You can now download the created zipfile (**File -> Open**, mark the checkbox next to the `deploy-on-pynq-tfc.zip` and select Download from the toolbar), then copy it to your PYNQ board (for instance via `scp` or `rsync`). Then, run the following commands **on the PYNQ board** to extract the archive and run the execution:"
   ]
  },
  {
   "cell_type": "markdown",
   "id": "3624d66b-cb86-4395-90e7-1a5e57d8e6d8",
   "metadata": {},
   "source": [
    "```shell\n",
    "unzip deploy-on-pynq-tfc.zip -d finn-tfc-demo\n",
    "cd finn-tfc-demo\n",
    "sudo python3 -m pip install bitstring\n",
    "sudo python3 driver.py --exec_mode=execute --batchsize=1 --bitfile=resizer.bit --inputfile=input.npy\n",
    "```"
   ]
  },
  {
   "cell_type": "markdown",
   "id": "0a4518fa-1f74-4db2-90b4-3fe1736271aa",
   "metadata": {},
   "source": [
    "The output will be saved on the PYNQ board as `output.npy` and can be copied to the host and opened with `np.load()`."
   ]
  },
  {
   "cell_type": "markdown",
   "id": "f501a7df-89b7-4441-b386-94f785ab3aff",
   "metadata": {},
   "source": [
    "### Validating the Accuracy on a PYNQ Board <a id='validation'></a>\n",
    "\n",
    "**Ensure that your PYNQ board has a working internet connecting for the next steps, since there is some downloading involved.**\n",
    "\n",
    "To validate the accuracy, we first need to install the [`dataset-loading`](https://github.com/fbcotter/dataset_loading) Python package to the PYNQ board. This will give us a convenient way of downloading and accessing the MNIST dataset.\n",
    "\n",
    "\n",
    "Command to execute on PYNQ board:\n",
    "\n",
    "```shell\n",
    "sudo pip3 install git+https://github.com/fbcotter/dataset_loading.git@0.0.4#egg=dataset_loading\n",
    "```"
   ]
  },
  {
   "cell_type": "markdown",
   "id": "f9833d30-4ca9-4bed-ba97-5d49efbd2665",
   "metadata": {},
   "source": [
    "We can now use the `validate.py` script that was generated together with the driver to measure top-1 accuracy on the MNIST dataset.\n",
    "\n",
    "Command to execute on PYNQ board:\n",
    "\n",
    "```shell\n",
    "sudo python3 validate.py --dataset mnist --batchsize 1000\n",
    "```"
   ]
  },
  {
   "cell_type": "markdown",
   "id": "5153ada3-2eef-4163-8923-1bff2073cb47",
   "metadata": {},
   "source": [
    "We see that the final top-1 accuracy is 92.96%, which is very close to the 93.17% reported on the [BNN-PYNQ accuracy table in Brevitas](https://github.com/Xilinx/brevitas/tree/master/src/brevitas_examples/bnn_pynq). "
   ]
  },
  {
   "cell_type": "markdown",
   "id": "4098c7b3-64b0-4830-9999-01db0cd1e9f5",
   "metadata": {},
   "source": [
    "### Throughput Test on PYNQ Board <a id='throughput'></a>\n",
    "In addition to the functional verification, FINN also offers the possibility to measure the network performance directly on the PYNQ board. This can be done setting the `exec_mode` to `throughput_test`. \n",
    "Command to execute on PYNQ board:\n",
    "\n",
    "```shell\n",
    "sudo python3 driver.py --exec_mode=throughput_test --batchsize=1000 --bitfile=resizer.bit\n",
    "```\n",
    "\n",
    "The network metrics from the throughput test are saved in a file called `nw_metrics.txt` on the PYNQ board. Which can be investigated after running the command above."
   ]
  },
  {
   "cell_type": "code",
   "execution_count": null,
   "id": "28d53057-e23a-4b41-a350-777def131358",
   "metadata": {},
   "outputs": [],
   "source": []
  }
 ],
 "metadata": {
  "kernelspec": {
   "display_name": "Python 3 (ipykernel)",
   "language": "python",
   "name": "python3"
  },
  "language_info": {
   "codemirror_mode": {
    "name": "ipython",
    "version": 3
   },
   "file_extension": ".py",
   "mimetype": "text/x-python",
   "name": "python",
   "nbconvert_exporter": "python",
   "pygments_lexer": "ipython3",
   "version": "3.10.12"
  }
 },
 "nbformat": 4,
 "nbformat_minor": 5
}
