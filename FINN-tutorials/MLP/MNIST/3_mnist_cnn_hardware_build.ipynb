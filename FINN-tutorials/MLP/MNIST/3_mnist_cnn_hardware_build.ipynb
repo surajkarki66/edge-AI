{
 "cells": [
  {
   "cell_type": "markdown",
   "id": "548e344e-6e66-4543-ae41-d1b8b528c8a7",
   "metadata": {},
   "source": [
    "## 3. Hardware Build <a id='vivado'></a>\n",
    "\n",
    "We're finally ready to start generating hardware from our network. Depending on whether you want to target a Zynq or Alveo platform, FINN offers two transformations to build the accelerator, integrate into an appropriate shell and build a bitfile. These are `ZynqBuild` and `VitisBuild` for Zynq and Alveo, respectively. In this notebook we'll demonstrate the `ZynqBuild` as these boards are more common and it's much faster to complete bitfile generation for the smaller FPGAs found on them."
   ]
  },
  {
   "cell_type": "markdown",
   "id": "c43f5310-af77-4108-8f85-6fb35e575889",
   "metadata": {},
   "source": [
    "In previous versions of FINN, we had to manually go through several steps to generate HLS/RTL code, stitch IP, create a PYNQ project and run synthesis. All these steps are now performed by the `ZynqBuild` transform (or the `VitisBuild` transform for Alveo). **As this involves calling HLS synthesis and Vivado synthesis, this transformation will run for some time (up to half an hour depending on your PC).**"
   ]
  },
  {
   "cell_type": "code",
   "execution_count": 2,
   "id": "e1815110-2946-4587-9eb2-1068357e6947",
   "metadata": {},
   "outputs": [],
   "source": [
    "build_dir = \"./\""
   ]
  },
  {
   "cell_type": "code",
   "execution_count": 4,
   "id": "faffa05e-4a0d-46df-8c2d-9be3507b895d",
   "metadata": {},
   "outputs": [
    {
     "name": "stdout",
     "output_type": "stream",
     "text": [
      "dict_keys(['Ultra96', 'Ultra96-V2', 'Pynq-Z1', 'Pynq-Z2', 'ZCU102', 'ZCU104', 'ZCU111', 'RFSoC2x2', 'RFSoC4x2', 'KV260_SOM'])\n"
     ]
    },
    {
     "name": "stderr",
     "output_type": "stream",
     "text": [
      "/home/surajkarki/Documents/My_Workspace/Coding_Works/Master_Project/finn/src/finn/transformation/fpgadataflow/floorplan.py:107: UserWarning: 10 nodes have no entry in the provided floorplan, SLR was set to -1\n",
      "  warnings.warn(\n",
      "/home/surajkarki/Documents/My_Workspace/Coding_Works/Master_Project/finn/src/finn/transformation/fpgadataflow/insert_fifo.py:237: UserWarning: Input FIFO for IODMA_hls_0_out0 has depth 2 and won't\n",
      "                        be created. This may cause RTL simulation issues.\n",
      "                        \n",
      "  warnings.warn(\n",
      "/home/surajkarki/Documents/My_Workspace/Coding_Works/Master_Project/finn/src/finn/transformation/fpgadataflow/insert_fifo.py:299: UserWarning: Output FIFO for LabelSelect_hls_0_out0 has depth 2 and won't\n",
      "                        be created. This may cause RTL simulation issues.\n",
      "                        \n",
      "  warnings.warn(\n",
      "/home/surajkarki/Documents/My_Workspace/Coding_Works/Master_Project/finn/src/finn/transformation/fpgadataflow/create_stitched_ip.py:290: UserWarning: First node is not StreamingFIFO or IODMA.\n",
      "                You may experience incorrect stitched-IP rtlsim or hardware\n",
      "                behavior. It is strongly recommended to insert FIFOs prior to\n",
      "                calling CreateStitchedIP.\n",
      "  warnings.warn(\n"
     ]
    }
   ],
   "source": [
    "from finn.transformation.fpgadataflow.make_zynq_proj import ZynqBuild\n",
    "from qonnx.core.modelwrapper import ModelWrapper\n",
    "\n",
    "\n",
    "# print the names of the supported PYNQ boards\n",
    "from finn.util.basic import pynq_part_map\n",
    "print(pynq_part_map.keys())\n",
    "\n",
    "# change this if you have a different PYNQ board, see list above\n",
    "pynq_board = \"Pynq-Z1\"\n",
    "fpga_part = pynq_part_map[pynq_board]\n",
    "target_clk_ns = 10\n",
    "\n",
    "model = ModelWrapper(build_dir+\"/tfc_w1_a1_set_folding_factors.onnx\")\n",
    "model = model.transform(ZynqBuild(platform = pynq_board, period_ns = target_clk_ns))"
   ]
  },
  {
   "cell_type": "markdown",
   "id": "4d585655-db48-48a1-96b7-535247948c64",
   "metadata": {},
   "source": [
    "After the `ZynqBuild` we run one additional transformation to generate a PYNQ driver for the accelerator."
   ]
  },
  {
   "cell_type": "code",
   "execution_count": 5,
   "id": "32ac2474-466d-469d-bf10-c3bad7b14bd1",
   "metadata": {},
   "outputs": [],
   "source": [
    "from finn.transformation.fpgadataflow.make_pynq_driver import MakePYNQDriver\n",
    "model = model.transform(MakePYNQDriver(\"zynq-iodma\"))"
   ]
  },
  {
   "cell_type": "code",
   "execution_count": 6,
   "id": "8071fe86-87a4-494b-96b8-af064dcf288e",
   "metadata": {},
   "outputs": [],
   "source": [
    "model.save(build_dir + \"/tfc_w1_a1_post_synthesis.onnx\")"
   ]
  },
  {
   "cell_type": "markdown",
   "id": "fafaa5ae-77c0-4154-b0e8-55025c7c2745",
   "metadata": {},
   "source": [
    "### Examining the generated outputs <a id='gen_outputs'></a>\n",
    "\n",
    "Let's start by viewing the post-synthesis model in Netron:"
   ]
  },
  {
   "cell_type": "code",
   "execution_count": 3,
   "id": "3be256d7-c7e5-4afc-a99b-22f4baa99ee4",
   "metadata": {},
   "outputs": [
    {
     "name": "stderr",
     "output_type": "stream",
     "text": [
      "Serving './/tfc_w1_a1_post_synthesis.onnx' at http://0.0.0.0:2222\n"
     ]
    },
    {
     "data": {
      "text/html": [
       "\n",
       "        <iframe\n",
       "            width=\"100%\"\n",
       "            height=\"400\"\n",
       "            src=\"http://localhost:2222/\"\n",
       "            frameborder=\"0\"\n",
       "            allowfullscreen\n",
       "            \n",
       "        ></iframe>\n",
       "        "
      ],
      "text/plain": [
       "<IPython.lib.display.IFrame at 0x7f037c1c1240>"
      ]
     },
     "execution_count": 3,
     "metadata": {},
     "output_type": "execute_result"
    }
   ],
   "source": [
    "from finn.util.visualization import showSrc, showInNetron\n",
    "\n",
    "showInNetron(build_dir + \"/tfc_w1_a1_post_synthesis.onnx\", port=2222)"
   ]
  },
  {
   "cell_type": "markdown",
   "id": "65fe5e1f-0e93-43c8-a0e3-ec02623960d9",
   "metadata": {},
   "source": [
    "We can see that our sequence of HLS layers has been replaced with `StreamingDataflowPartition`s, each of which point to a different ONNX file. You can open a Netron session for each of them to view their contents. Here, the first and last partitions contain only an `IODMA` node, which was inserted automatically to move data between DRAM and the accelerator. Let's take a closer look at the middle partition, which contains all our layers:"
   ]
  },
  {
   "cell_type": "code",
   "execution_count": 7,
   "id": "1b0e8a98-51b2-4161-81a9-8ced1de1a9e5",
   "metadata": {},
   "outputs": [
    {
     "name": "stderr",
     "output_type": "stream",
     "text": [
      "Serving '/home/surajkarki/Documents/My_Workspace/Coding_Works/Master_Project/finn/notebooks/experiments/yolov8/finn_build_dir//dataflow_partition_ntxhcs80/partition_2.onnx' at http://0.0.0.0:2222\n"
     ]
    },
    {
     "data": {
      "text/html": [
       "\n",
       "        <iframe\n",
       "            width=\"100%\"\n",
       "            height=\"400\"\n",
       "            src=\"http://localhost:2222/\"\n",
       "            frameborder=\"0\"\n",
       "            allowfullscreen\n",
       "            \n",
       "        ></iframe>\n",
       "        "
      ],
      "text/plain": [
       "<IPython.lib.display.IFrame at 0x7f0341fcd090>"
      ]
     },
     "execution_count": 7,
     "metadata": {},
     "output_type": "execute_result"
    }
   ],
   "source": [
    "from qonnx.core.modelwrapper import ModelWrapper\n",
    "from qonnx.custom_op.registry import getCustomOp\n",
    "\n",
    "model = ModelWrapper(build_dir + \"/tfc_w1_a1_post_synthesis.onnx\")\n",
    "sdp_node_middle = getCustomOp(model.graph.node[1])\n",
    "postsynth_layers = sdp_node_middle.get_nodeattr(\"model\")\n",
    "\n",
    "showInNetron(postsynth_layers, port=2222)"
   ]
  },
  {
   "cell_type": "markdown",
   "id": "e1990950-e9b5-45c8-82f0-f290e3d6cd56",
   "metadata": {},
   "source": [
    "We can see that `StreamingFIFO` and `StreamingDataWidthConverter` instances have been automatically inserted into the graph prior to hardware build. Both layer types are inserted as RTL variants. Transformations like `ZynqBuild` use the `metadata_props` of the model to put in additional metadata information relevant to the results of the transformation. Let's examine the metadata for the current graph containing all layers:"
   ]
  },
  {
   "cell_type": "code",
   "execution_count": 8,
   "id": "f400a763-dbaa-41ec-9f38-709f90c945e1",
   "metadata": {},
   "outputs": [
    {
     "data": {
      "text/plain": [
       "[key: \"floorplan_json\"\n",
       "value: \"/home/surajkarki/Documents/My_Workspace/Coding_Works/Master_Project/finn/notebooks/experiments/yolov8/finn_build_dir//vitis_floorplan_i57skffa/floorplan.json\"\n",
       ", key: \"vivado_stitch_proj\"\n",
       "value: \"/home/surajkarki/Documents/My_Workspace/Coding_Works/Master_Project/finn/notebooks/experiments/yolov8/finn_build_dir//vivado_stitch_proj_4nctmwdy\"\n",
       ", key: \"clk_ns\"\n",
       "value: \"10\"\n",
       ", key: \"wrapper_filename\"\n",
       "value: \"/home/surajkarki/Documents/My_Workspace/Coding_Works/Master_Project/finn/notebooks/experiments/yolov8/finn_build_dir//vivado_stitch_proj_4nctmwdy/finn_vivado_stitch_proj.gen/sources_1/bd/StreamingDataflowPartition_1/hdl/StreamingDataflowPartition_1_wrapper.v\"\n",
       ", key: \"vivado_stitch_vlnv\"\n",
       "value: \"xilinx_finn:finn:StreamingDataflowPartition_1:1.0\"\n",
       ", key: \"vivado_stitch_ifnames\"\n",
       "value: \"{\\\"clk\\\": [\\\"ap_clk\\\"], \\\"rst\\\": [\\\"ap_rst_n\\\"], \\\"s_axis\\\": [[\\\"s_axis_0\\\", 392]], \\\"m_axis\\\": [[\\\"m_axis_0\\\", 8]], \\\"aximm\\\": [], \\\"axilite\\\": []}\"\n",
       ", key: \"platform\"\n",
       "value: \"zynq-iodma\"\n",
       "]"
      ]
     },
     "execution_count": 8,
     "metadata": {},
     "output_type": "execute_result"
    }
   ],
   "source": [
    "model = ModelWrapper(postsynth_layers)\n",
    "model.model.metadata_props"
   ]
  },
  {
   "cell_type": "markdown",
   "id": "daddb7d2-f124-40bd-a7ae-5d620d1796b7",
   "metadata": {},
   "source": [
    "Here we see that a Vivado project was built to create what we call the `stitched IP`, where all the IP blocks implementing various layers will be stitched together. You can view this stitched block design in Vivado, or [here](StreamingDataflowPartition_1.pdf) as an exported PDF."
   ]
  },
  {
   "cell_type": "markdown",
   "id": "b129ab02-5593-4359-8b3e-8ddfc0fee455",
   "metadata": {},
   "source": [
    "Moving back to the top-level model, recall that `ZynqBuild` will create a Vivado project and synthesize it, so it will be creating metadata entries related to the paths and files that were created:"
   ]
  },
  {
   "cell_type": "code",
   "execution_count": 9,
   "id": "13c70a81-1e32-4430-913c-5b8b70145dd8",
   "metadata": {},
   "outputs": [
    {
     "data": {
      "text/plain": [
       "[key: \"floorplan_json\"\n",
       "value: \"/home/surajkarki/Documents/My_Workspace/Coding_Works/Master_Project/finn/notebooks/experiments/yolov8/finn_build_dir//vitis_floorplan_i57skffa/floorplan.json\"\n",
       ", key: \"vivado_pynq_proj\"\n",
       "value: \"/home/surajkarki/Documents/My_Workspace/Coding_Works/Master_Project/finn/notebooks/experiments/yolov8/finn_build_dir//vivado_zynq_proj_4lzsijk8\"\n",
       ", key: \"bitfile\"\n",
       "value: \"/home/surajkarki/Documents/My_Workspace/Coding_Works/Master_Project/finn/notebooks/experiments/yolov8/finn_build_dir//vivado_zynq_proj_4lzsijk8/resizer.bit\"\n",
       ", key: \"hw_handoff\"\n",
       "value: \"/home/surajkarki/Documents/My_Workspace/Coding_Works/Master_Project/finn/notebooks/experiments/yolov8/finn_build_dir//vivado_zynq_proj_4lzsijk8/resizer.hwh\"\n",
       ", key: \"vivado_synth_rpt\"\n",
       "value: \"/home/surajkarki/Documents/My_Workspace/Coding_Works/Master_Project/finn/notebooks/experiments/yolov8/finn_build_dir//vivado_zynq_proj_4lzsijk8/synth_report.xml\"\n",
       ", key: \"platform\"\n",
       "value: \"zynq-iodma\"\n",
       ", key: \"pynq_driver_dir\"\n",
       "value: \"/home/surajkarki/Documents/My_Workspace/Coding_Works/Master_Project/finn/notebooks/experiments/yolov8/finn_build_dir//pynq_driver_api0g6ud\"\n",
       "]"
      ]
     },
     "execution_count": 9,
     "metadata": {},
     "output_type": "execute_result"
    }
   ],
   "source": [
    "model = ModelWrapper(build_dir + \"/tfc_w1_a1_post_synthesis.onnx\")\n",
    "model.model.metadata_props"
   ]
  },
  {
   "cell_type": "markdown",
   "id": "7d134dd7-63ae-4042-9d43-c794c62164a9",
   "metadata": {},
   "source": [
    "Here, we can see the directories that were created for the PYNQ driver (`pynq_driver_dir`) and the Vivado synthesis project (`vivado_pynq_proj`), as well as the locations of the bitfile, hardware handoff file and synthesis report."
   ]
  },
  {
   "cell_type": "code",
   "execution_count": 10,
   "id": "35b2ce7d-4852-4f9a-82e1-5ef00023e8d5",
   "metadata": {},
   "outputs": [
    {
     "name": "stdout",
     "output_type": "stream",
     "text": [
      "finn_zynq_link.cache\t      finn_zynq_link.srcs  resizer.hwh\n",
      "finn_zynq_link.gen\t      finn_zynq_link.xpr   synth_project.sh\n",
      "finn_zynq_link.hw\t      ip_config.tcl\t   synth_report.xml\n",
      "finn_zynq_link.ip_user_files  NA\t\t   vivado.jou\n",
      "finn_zynq_link.runs\t      resizer.bit\t   vivado.log\n"
     ]
    }
   ],
   "source": [
    "! ls {model.get_metadata_prop(\"vivado_pynq_proj\")}"
   ]
  },
  {
   "cell_type": "markdown",
   "id": "b2b519dd-a65c-4701-9f0e-b789322c1bd4",
   "metadata": {},
   "source": [
    "Feel free to examine the generated Vivado project to get a feel for how the system-level integration is performed for the  FINN-generated \"stitched IP\", which appears as `StreamingDataflowPartition_1` in the top-level block design -- you can see it as a block diagram exported to PDF [here](top.pdf)."
   ]
  },
  {
   "cell_type": "code",
   "execution_count": null,
   "id": "c6ccb630-3d6b-4da7-a4dc-2e2ccc7ab824",
   "metadata": {},
   "outputs": [],
   "source": []
  }
 ],
 "metadata": {
  "kernelspec": {
   "display_name": "Python 3 (ipykernel)",
   "language": "python",
   "name": "python3"
  },
  "language_info": {
   "codemirror_mode": {
    "name": "ipython",
    "version": 3
   },
   "file_extension": ".py",
   "mimetype": "text/x-python",
   "name": "python",
   "nbconvert_exporter": "python",
   "pygments_lexer": "ipython3",
   "version": "3.10.12"
  }
 },
 "nbformat": 4,
 "nbformat_minor": 5
}
